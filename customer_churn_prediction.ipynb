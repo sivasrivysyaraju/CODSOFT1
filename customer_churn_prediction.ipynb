{
  "nbformat": 4,
  "nbformat_minor": 0,
  "metadata": {
    "colab": {
      "provenance": [],
      "authorship_tag": "ABX9TyONC4MYpin1IBMmCSOD1msl",
      "include_colab_link": true
    },
    "kernelspec": {
      "name": "python3",
      "display_name": "Python 3"
    },
    "language_info": {
      "name": "python"
    }
  },
  "cells": [
    {
      "cell_type": "markdown",
      "metadata": {
        "id": "view-in-github",
        "colab_type": "text"
      },
      "source": [
        "<a href=\"https://colab.research.google.com/github/sivasrivysyaraju/CODSOFT1/blob/main/customer_churn_prediction.ipynb\" target=\"_parent\"><img src=\"https://colab.research.google.com/assets/colab-badge.svg\" alt=\"Open In Colab\"/></a>"
      ]
    },
    {
      "cell_type": "markdown",
      "source": [
        "Importing libraries\n"
      ],
      "metadata": {
        "id": "eo54T5-gZCva"
      }
    },
    {
      "cell_type": "code",
      "source": [
        "import tensorflow as tf\n",
        "import pandas as pd\n",
        "from tensorflow.keras.models import Sequential\n",
        "from tensorflow.keras.layers import Dense\n",
        "from tensorflow.keras.optimizers import SGD, Adam, RMSprop\n",
        "from sklearn.model_selection import train_test_split\n",
        "from sklearn.metrics import accuracy_score\n",
        "from sklearn.preprocessing import StandardScaler, OneHotEncoder\n",
        "from sklearn.compose import ColumnTransformer\n",
        "from sklearn.metrics import roc_curve, auc\n",
        "import matplotlib.pyplot as plt\n",
        "from sklearn.metrics import confusion_matrix, ConfusionMatrixDisplay\n",
        "from tensorflow.keras.callbacks import EarlyStopping"
      ],
      "metadata": {
        "id": "OAvVbwI4Y10J"
      },
      "execution_count": null,
      "outputs": []
    },
    {
      "cell_type": "markdown",
      "source": [
        "Data Preprocessing"
      ],
      "metadata": {
        "id": "mtMbWcFgZYiF"
      }
    },
    {
      "cell_type": "code",
      "source": [
        "data = pd.read_csv(\"/content/Churn_Modelling.csv\")\n",
        "data = data.drop(['CustomerId', 'Surname'], axis=1)\n",
        "categorical_cols = ['Geography', 'Gender']\n",
        "numerical_cols = [col for col in data.columns if col not in categorical_cols + ['Exited']]\n",
        "A = data.drop('Exited', axis=1)\n",
        "b = data['Exited']"
      ],
      "metadata": {
        "id": "CkgjfyHLY14u"
      },
      "execution_count": null,
      "outputs": []
    },
    {
      "cell_type": "markdown",
      "source": [
        "Transforming/Scaling categorical and numerical data using OneHotEncoder and StandardScaler respectively"
      ],
      "metadata": {
        "id": "9UBe5x5HZ0dY"
      }
    },
    {
      "cell_type": "code",
      "source": [
        "numerical_transformer = StandardScaler()\n",
        "categorical_transformer = OneHotEncoder(drop='first', sparse=False)\n",
        "preprocessor = ColumnTransformer(\n",
        "    transformers=[\n",
        "        ('num', numerical_transformer, numerical_cols),\n",
        "        ('cat', categorical_transformer, categorical_cols)\n",
        "    ])"
      ],
      "metadata": {
        "id": "Z1JvAK2MY169"
      },
      "execution_count": null,
      "outputs": []
    },
    {
      "cell_type": "markdown",
      "source": [
        "Splitting training and testing data"
      ],
      "metadata": {
        "id": "aZ8qC16maKBt"
      }
    },
    {
      "cell_type": "code",
      "source": [
        "A_train, A_test, b_train, b_test = train_test_split(A, b, test_size=0.3, random_state=42)\n",
        "A_train = preprocessor.fit_transform(A_train)\n",
        "A_test = preprocessor.transform(A_test)"
      ],
      "metadata": {
        "colab": {
          "base_uri": "https://localhost:8080/"
        },
        "id": "b_SvNGvjY176",
        "outputId": "5e7759d7-1bd6-44bc-b958-266090356806"
      },
      "execution_count": null,
      "outputs": [
        {
          "output_type": "stream",
          "name": "stderr",
          "text": [
            "/usr/local/lib/python3.10/dist-packages/sklearn/preprocessing/_encoders.py:868: FutureWarning: `sparse` was renamed to `sparse_output` in version 1.2 and will be removed in 1.4. `sparse_output` is ignored unless you leave `sparse` to its default value.\n",
            "  warnings.warn(\n"
          ]
        }
      ]
    },
    {
      "cell_type": "markdown",
      "source": [
        "Create the model with necessary operations"
      ],
      "metadata": {
        "id": "-1v1zhGpaShi"
      }
    },
    {
      "cell_type": "code",
      "source": [
        "def create_model(optimizer):\n",
        "    model = Sequential()\n",
        "    model.add(Dense(64, input_shape=(A_train.shape[1],), activation='relu'))\n",
        "    model.add(Dense(32, activation='relu'))\n",
        "    model.add(Dense(1, activation='sigmoid'))\n",
        "\n",
        "    model.compile(optimizer=optimizer, loss='binary_crossentropy', metrics=['accuracy'])\n",
        "    return model"
      ],
      "metadata": {
        "id": "1hOX-LInY1-Y"
      },
      "execution_count": null,
      "outputs": []
    },
    {
      "cell_type": "markdown",
      "source": [
        "Model Compilation"
      ],
      "metadata": {
        "id": "YptW4C-oad7s"
      }
    },
    {
      "cell_type": "code",
      "source": [
        "optimizers = [SGD(), Adam(), RMSprop()]\n",
        "for opt in optimizers:\n",
        "    model = create_model(opt)\n",
        "    print(f\"Training model with {str(opt)} optimizer...\")\n",
        "    early_stopping = EarlyStopping(monitor='val_loss', patience=3, restore_best_weights=True)\n",
        "    model.fit(A_train, b_train, epochs=10, batch_size=32, verbose=0)"
      ],
      "metadata": {
        "colab": {
          "base_uri": "https://localhost:8080/"
        },
        "id": "nXjyJFuhY1DD",
        "outputId": "416c9f58-4ec8-44a4-b8b6-473b1c72ddfb"
      },
      "execution_count": null,
      "outputs": [
        {
          "output_type": "stream",
          "name": "stdout",
          "text": [
            "Training model with <keras.src.optimizers.sgd.SGD object at 0x7914f2c2f040> optimizer...\n",
            "Training model with <keras.src.optimizers.adam.Adam object at 0x7914f2c2fa00> optimizer...\n",
            "Training model with <keras.src.optimizers.rmsprop.RMSprop object at 0x7914f2c2fd30> optimizer...\n"
          ]
        }
      ]
    },
    {
      "cell_type": "markdown",
      "source": [
        "Accuracy Evaluation"
      ],
      "metadata": {
        "id": "0WX2uAW3amne"
      }
    },
    {
      "cell_type": "code",
      "source": [
        "loss, accuracy = model.evaluate(A_test, b_test, verbose=0)\n",
        "print(f\"Evaluation on test set with {str(opt)} optimizer:\")\n",
        "print(f\"Loss: {loss:.4f}, Accuracy: {accuracy*100:.2f}%\")\n",
        "b_pred = model.predict(A_test)\n",
        "b_pred_classes = (b_pred > 0.5).astype(\"int32\")"
      ],
      "metadata": {
        "colab": {
          "base_uri": "https://localhost:8080/"
        },
        "id": "C19-B7l2Y1G7",
        "outputId": "48eacee5-0db1-4ce1-b112-fc5c66614608"
      },
      "execution_count": null,
      "outputs": [
        {
          "output_type": "stream",
          "name": "stdout",
          "text": [
            "Evaluation on test set with <keras.src.optimizers.rmsprop.RMSprop object at 0x7914f2c2fd30> optimizer:\n",
            "Loss: 0.3364, Accuracy: 86.37%\n",
            "94/94 [==============================] - 0s 764us/step\n"
          ]
        }
      ]
    },
    {
      "cell_type": "markdown",
      "source": [
        "Confusion Matrix"
      ],
      "metadata": {
        "id": "mDEDaws-awda"
      }
    },
    {
      "cell_type": "code",
      "source": [
        "cm = confusion_matrix(b_test, b_pred_classes)\n",
        "print(\"\")\n",
        "print(\"Confusion Matrix:\")\n",
        "print(cm)\n",
        "print(\"Number of customers predicted by the model to stay : \",cm[0][0])\n",
        "print(\"Number of customer predicted by the model to churn/exit : \",cm[1][1])"
      ],
      "metadata": {
        "colab": {
          "base_uri": "https://localhost:8080/"
        },
        "id": "LYsEhmKbY1JG",
        "outputId": "53b724c4-a74b-4a96-bbe9-67c21709ff84"
      },
      "execution_count": null,
      "outputs": [
        {
          "output_type": "stream",
          "name": "stdout",
          "text": [
            "\n",
            "Confusion Matrix:\n",
            "[[2311  105]\n",
            " [ 304  280]]\n",
            "Number of customers predicted by the model to stay :  2311\n",
            "Number of customer predicted by the model to churn/exit :  280\n"
          ]
        }
      ]
    },
    {
      "cell_type": "markdown",
      "source": [
        "Visualization of Confusion Matrix"
      ],
      "metadata": {
        "id": "qWS-tyfFa4T1"
      }
    },
    {
      "cell_type": "code",
      "source": [
        "disp = ConfusionMatrixDisplay(cm, display_labels=['Stay','Churn/Exit'])\n",
        "disp.plot()\n",
        "plt.title('Confusion Matrix')\n",
        "plt.show()"
      ],
      "metadata": {
        "id": "OBBWnO0Za8rU",
        "outputId": "e62dbe57-107d-45c1-eaab-e1df1a44c11e",
        "colab": {
          "base_uri": "https://localhost:8080/",
          "height": 472
        }
      },
      "execution_count": null,
      "outputs": [
        {
          "output_type": "display_data",
          "data": {
            "text/plain": [
              "<Figure size 640x480 with 2 Axes>"
            ],
            "image/png": "[encoded data removed]"
          },
          "metadata": {}
        }
      ]
    }
  ]
}